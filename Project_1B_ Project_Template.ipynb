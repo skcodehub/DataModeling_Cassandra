{
 "cells": [
  {
   "cell_type": "markdown",
   "metadata": {
    "editable": true
   },
   "source": [
    "# Part I. ETL Pipeline for Pre-Processing the Files"
   ]
  },
  {
   "cell_type": "markdown",
   "metadata": {
    "editable": true
   },
   "source": [
    "## PLEASE RUN THE FOLLOWING CODE FOR PRE-PROCESSING THE FILES"
   ]
  },
  {
   "cell_type": "markdown",
   "metadata": {
    "editable": true
   },
   "source": [
    "#### Import Python packages "
   ]
  },
  {
   "cell_type": "code",
   "execution_count": 28,
   "metadata": {
    "editable": true
   },
   "outputs": [],
   "source": [
    "# Import Python packages \n",
    "import pandas as pd\n",
    "import cassandra\n",
    "import re\n",
    "import os\n",
    "import glob\n",
    "import numpy as np\n",
    "import json\n",
    "import csv\n",
    "from prettytable import PrettyTable"
   ]
  },
  {
   "cell_type": "markdown",
   "metadata": {
    "editable": true
   },
   "source": [
    "#### Creating list of filepaths to process original event csv data files"
   ]
  },
  {
   "cell_type": "markdown",
   "metadata": {
    "editable": true
   },
   "source": [
    "Extract files from the filepath and create list of files with full path"
   ]
  },
  {
   "cell_type": "code",
   "execution_count": 29,
   "metadata": {
    "editable": true
   },
   "outputs": [
    {
     "name": "stdout",
     "output_type": "stream",
     "text": [
      "/home/workspace\n"
     ]
    }
   ],
   "source": [
    "# checking current working directory\n",
    "print(os.getcwd())\n",
    "\n",
    "# Get your current folder and subfolder event data\n",
    "filepath = os.getcwd() + '/event_data'\n",
    "\n",
    "# Create a for loop to create a list of files and collect each filepath\n",
    "for root, dirs, files in os.walk(filepath):\n",
    "    \n",
    "# join the file path and roots with the subdirectories using glob\n",
    "    file_path_list = glob.glob(os.path.join(root,'*'))\n",
    "    #print(file_path_list)"
   ]
  },
  {
   "cell_type": "markdown",
   "metadata": {
    "editable": true
   },
   "source": [
    "#### Processing the files to create the data file csv that will be used for Apache Casssandra tables"
   ]
  },
  {
   "cell_type": "code",
   "execution_count": 30,
   "metadata": {
    "editable": true
   },
   "outputs": [
    {
     "name": "stdout",
     "output_type": "stream",
     "text": [
      "8056\n"
     ]
    }
   ],
   "source": [
    "# initiating an empty list of rows that will be generated from each file\n",
    "full_data_rows_list = [] \n",
    "    \n",
    "# for every filepath in the file path list \n",
    "for f in file_path_list:\n",
    "\n",
    "# reading csv file \n",
    "    with open(f, 'r', encoding = 'utf8', newline='') as csvfile: \n",
    "        # creating a csv reader object \n",
    "        csvreader = csv.reader(csvfile) \n",
    "        #using next method advances the file reader by a line, this is a way to skip header and read the records from second line\n",
    "        next(csvreader)\n",
    "        \n",
    " # extracting each data row one by one and append it        \n",
    "        for line in csvreader:\n",
    "            #print(line)\n",
    "            full_data_rows_list.append(line) \n",
    "            \n",
    "# uncomment the code below if you would like to get total number of rows \n",
    "print(len(full_data_rows_list))\n",
    "# uncomment the code below if you would like to check to see what the list of event data rows will look like\n",
    "#print(full_data_rows_list)\n",
    "\n",
    "# creating a smaller event data csv file called event_datafile_full csv that will be used to insert data into the \\\n",
    "# Apache Cassandra tables\n",
    "csv.register_dialect('myDialect', quoting=csv.QUOTE_ALL, skipinitialspace=True)\n",
    "\n",
    "with open('event_datafile_new.csv', 'w', encoding = 'utf8', newline='') as f:\n",
    "    writer = csv.writer(f, dialect='myDialect')\n",
    "    writer.writerow(['artist','firstName','gender','itemInSession','lastName','length',\\\n",
    "                'level','location','sessionId','song','userId'])\n",
    "    for row in full_data_rows_list:\n",
    "        if (row[0] == ''):\n",
    "            continue\n",
    "        writer.writerow((row[0], row[2], row[3], row[4], row[5], row[6], row[7], row[8], row[12], row[13], row[16]))\n"
   ]
  },
  {
   "cell_type": "code",
   "execution_count": 31,
   "metadata": {
    "editable": true
   },
   "outputs": [
    {
     "name": "stdout",
     "output_type": "stream",
     "text": [
      "6821\n"
     ]
    }
   ],
   "source": [
    "# check the number of rows in your csv file\n",
    "with open('event_datafile_new.csv', 'r', encoding = 'utf8') as f:\n",
    "    print(sum(1 for line in f))"
   ]
  },
  {
   "cell_type": "markdown",
   "metadata": {
    "editable": true
   },
   "source": [
    "# Part II. Complete the Apache Cassandra coding portion of your project. \n",
    "\n",
    "## Now you are ready to work with the CSV file titled <font color=red>event_datafile_new.csv</font>, located within the Workspace directory.  The event_datafile_new.csv contains the following columns: \n",
    "- artist \n",
    "- firstName of user\n",
    "- gender of user\n",
    "- item number in session\n",
    "- last name of user\n",
    "- length of the song\n",
    "- level (paid or free song)\n",
    "- location of the user\n",
    "- sessionId\n",
    "- song title\n",
    "- userId\n",
    "\n",
    "The image below is a screenshot of what the denormalized data should appear like in the <font color=red>**event_datafile_new.csv**</font> after the code above is run:<br>\n",
    "\n",
    "<img src=\"images/image_event_datafile_new.jpg\">"
   ]
  },
  {
   "cell_type": "markdown",
   "metadata": {
    "editable": true
   },
   "source": [
    "## Begin writing your Apache Cassandra code in the cells below"
   ]
  },
  {
   "cell_type": "markdown",
   "metadata": {
    "editable": true
   },
   "source": [
    "#### Creating a Cluster"
   ]
  },
  {
   "cell_type": "code",
   "execution_count": 32,
   "metadata": {
    "editable": true
   },
   "outputs": [],
   "source": [
    "# This should make a connection to a Cassandra instance your local machine \n",
    "# (127.0.0.1)\n",
    "\n",
    "from cassandra.cluster import Cluster\n",
    "try:\n",
    "    cluster = Cluster(['127.0.0.1'])\n",
    "    # To establish connection and begin executing queries, need a session\n",
    "    session = cluster.connect()\n",
    "except Exception as e:\n",
    "    print(e)"
   ]
  },
  {
   "cell_type": "markdown",
   "metadata": {
    "editable": true
   },
   "source": [
    "#### Create Keyspace"
   ]
  },
  {
   "cell_type": "code",
   "execution_count": 33,
   "metadata": {
    "editable": true
   },
   "outputs": [],
   "source": [
    "# Create a Keyspace \n",
    "try:\n",
    "    session.execute(\"\"\"\n",
    "    CREATE KEYSPACE IF NOT EXISTS udacity\n",
    "    WITH REPLICATION = \n",
    "    {'class': 'SimpleStrategy', 'replication_factor':1}\n",
    "    \"\"\")\n",
    "except Exception as e:\n",
    "    print(e)"
   ]
  },
  {
   "cell_type": "markdown",
   "metadata": {
    "editable": true
   },
   "source": [
    "#### Set Keyspace"
   ]
  },
  {
   "cell_type": "code",
   "execution_count": 34,
   "metadata": {
    "editable": true
   },
   "outputs": [],
   "source": [
    "# Set KEYSPACE to the keyspace specified above\n",
    "try:\n",
    "    session.set_keyspace('udacity')\n",
    "except Exception as e:\n",
    "    print(e)"
   ]
  },
  {
   "cell_type": "markdown",
   "metadata": {
    "editable": true
   },
   "source": [
    "### Now we need to create tables to run the following queries. Remember, with Apache Cassandra you model the database tables on the queries you want to run."
   ]
  },
  {
   "cell_type": "markdown",
   "metadata": {
    "editable": true
   },
   "source": [
    "## Create queries to ask the following three questions of the data\n",
    "\n",
    "### 1. Give me the artist, song title and song's length in the music app history that was heard during  sessionId = 338, and itemInSession  = 4\n",
    "\n",
    "\n",
    "### 2. Give me only the following: name of artist, song (sorted by itemInSession) and user (first and last name) for userid = 10, sessionid = 182\n",
    "    \n",
    "\n",
    "### 3. Give me every user name (first and last) in my music app history who listened to the song 'All Hands Against His Own'\n",
    "\n",
    "\n"
   ]
  },
  {
   "cell_type": "markdown",
   "metadata": {
    "editable": true
   },
   "source": [
    "#### Create a table to show song played in a session at a specified position.\n",
    "#### This table gives the result set of song in a specified position within a session.\n",
    "#### For this the primary key is session_id, item_in_session. Session_id is the partition key and item_in_session is the clustering key which allows ordering of rows."
   ]
  },
  {
   "cell_type": "code",
   "execution_count": 35,
   "metadata": {
    "editable": true
   },
   "outputs": [],
   "source": [
    "\"\"\"\n",
    "Query 1:  Give me the artist, song title and song's length in the music app history that was heard during\n",
    "sessionId = 338, and itemInSession = 4\n",
    " drop and create table\n",
    "\"\"\"\n",
    "query_d = \"DROP TABLE IF EXISTS song_usage\"\n",
    "query = \"CREATE TABLE IF NOT EXISTS song_usage \"\n",
    "query = query + \"(session_id int, item_in_session int, artist_name text, song_title text, song_length float, user_id int, PRIMARY KEY (session_id, item_in_session))\"\n",
    "try:\n",
    "    session.execute(query_d)\n",
    "    session.execute(query)\n",
    "except Exception as e:\n",
    "    print(e)                 "
   ]
  },
  {
   "cell_type": "code",
   "execution_count": 36,
   "metadata": {
    "editable": true
   },
   "outputs": [],
   "source": [
    "# read the data file that was created above and insert into the table to answer query1\n",
    "file = 'event_datafile_new.csv'\n",
    "\n",
    "with open(file, encoding = 'utf8') as f:\n",
    "    csvreader = csv.reader(f)\n",
    "    next(csvreader) # skip header\n",
    "    for line in csvreader:\n",
    "    ## INSERT statements into the `query` variable\n",
    "        query = \"INSERT INTO song_usage ( session_id, item_in_session, artist_name, song_title, song_length, user_id)\"\n",
    "        query = query + \" VALUES (%s, %s, %s, %s, %s, %s)\"\n",
    "        ## Assign which column element should be assigned for each column in the INSERT statement.\n",
    "        ## For e.g., to INSERT artist_name and user first_name, you would change the code below to `line[0], line[1]`\n",
    "        session.execute(query, (pd.to_numeric(line[8]), pd.to_numeric(line[3]), line[0], line[9], pd.to_numeric(line[5]), pd.to_numeric(line[10])))"
   ]
  },
  {
   "cell_type": "markdown",
   "metadata": {
    "editable": true
   },
   "source": [
    "#### Do a SELECT to verify that the data have been inserted into each table"
   ]
  },
  {
   "cell_type": "code",
   "execution_count": 37,
   "metadata": {
    "editable": true,
    "scrolled": true
   },
   "outputs": [
    {
     "name": "stdout",
     "output_type": "stream",
     "text": [
      "+-------------+---------------------------------+--------------------+\n",
      "| Artist Name |            Song Title           |    Song Length     |\n",
      "+-------------+---------------------------------+--------------------+\n",
      "|  Faithless  | Music Matters (Mark Knight Dub) | 495.30731201171875 |\n",
      "+-------------+---------------------------------+--------------------+\n"
     ]
    }
   ],
   "source": [
    "\"\"\" SELECT statement to verify the data was entered into the table\n",
    " Query 1:  Give me the artist, song title and song's length in the music app history that was heard during \\\n",
    " sessionId = 338, and itemInSession = 4\n",
    "\"\"\"\n",
    "query = \"select artist_name, song_title, song_length from song_usage where session_id = 338 and item_in_session = 4\"\n",
    "try:\n",
    "    rows = session.execute(query)\n",
    "except Exception as e:\n",
    "    print(e)\n",
    "\n",
    "#Create a list and add rows to the list which are then added to a data frame for clean display\n",
    "#rowlist = []\n",
    "t = PrettyTable(['Artist Name', 'Song Title', 'Song Length'])\n",
    "\n",
    "for row in rows:\n",
    "    t.add_row([row.artist_name, row.song_title, row.song_length])\n",
    "    #rowlist.append({'Artist Name':row.artist_name, 'Song title':row.song_title, 'Song Length':row.song_length})\n",
    "\n",
    "print(t)\n",
    "#df = pd.DataFrame(rowlist)\n",
    "#df"
   ]
  },
  {
   "cell_type": "markdown",
   "metadata": {
    "editable": true
   },
   "source": [
    "### Create a table to check the songs played by user in a session and insert into the table"
   ]
  },
  {
   "cell_type": "markdown",
   "metadata": {
    "editable": true
   },
   "source": [
    "#### Create a table to show list of songs a user listened to in a session.\n",
    "#### This table gives the result set of songs a specified user listened to in a given session.\n",
    "#### For this the primary key is user_id and session_id and clustering column is item_in_session so it can be listed \n",
    "#### in the order it was played by the user."
   ]
  },
  {
   "cell_type": "code",
   "execution_count": 38,
   "metadata": {
    "editable": true
   },
   "outputs": [],
   "source": [
    "\"\"\" Query 2: Give me only the following: name of artist, song (sorted by itemInSession) and user (first and last name)\\\n",
    " for userid = 10, sessionid = 182\n",
    " drop and create table and insert records into the table from the csv file\n",
    "\"\"\"\n",
    "query_d = \"DROP TABLE IF EXISTS user_song\"\n",
    "query = \"CREATE TABLE IF NOT EXISTS user_song \"\n",
    "query = query + \"(user_id int, session_id int, item_in_session int, artist_name text, song_title text, user_name text, \\\n",
    "                    PRIMARY KEY ((user_id, session_id), item_in_session))\"\n",
    "try:\n",
    "    session.execute(query_d)\n",
    "    session.execute(query)\n",
    "except Exception as e:\n",
    "    print(e)\n",
    "\n",
    "file = 'event_datafile_new.csv'\n",
    "\n",
    "with open(file, encoding = 'utf8') as f:\n",
    "    csvreader = csv.reader(f)\n",
    "    next(csvreader) # skip header\n",
    "    for line in csvreader:\n",
    "    ## INSERT statements into the `query` variable\n",
    "        query = \"INSERT INTO user_song (user_id, session_id, item_in_session, artist_name, song_title, user_name)\"\n",
    "        query = query + \" VALUES (%s, %s, %s, %s, %s, %s)\"\n",
    "        ## Assign which column element should be assigned for each column in the INSERT statement.\n",
    "        ## For e.g., to INSERT artist_name and user first_name, you would change the code below to `line[0], line[1]`\n",
    "        session.execute(query, (pd.to_numeric(line[10]), pd.to_numeric(line[8]), pd.to_numeric(line[3]), line[0], line[9], line[1]+' '+line[4]))"
   ]
  },
  {
   "cell_type": "code",
   "execution_count": 39,
   "metadata": {
    "editable": true
   },
   "outputs": [
    {
     "name": "stdout",
     "output_type": "stream",
     "text": [
      "+-----------------+-------------------+------------------------------------------------------+-------------+\n",
      "| Item in Session |       Artist      |                      Song Title                      |  User Name  |\n",
      "+-----------------+-------------------+------------------------------------------------------+-------------+\n",
      "|        0        |  Down To The Bone |                  Keep On Keepin' On                  | Sylvie Cruz |\n",
      "|        1        |    Three Drives   |                     Greece 2000                      | Sylvie Cruz |\n",
      "|        2        | Sebastien Tellier |                      Kilometer                       | Sylvie Cruz |\n",
      "|        3        |   Lonnie Gordon   | Catch You Baby (Steve Pitron & Max Sanna Radio Edit) | Sylvie Cruz |\n",
      "+-----------------+-------------------+------------------------------------------------------+-------------+\n"
     ]
    }
   ],
   "source": [
    "\"\"\"\n",
    "Give me only the following: name of artist, song (sorted by itemInSession) and user (first and last name)\n",
    " for userid = 10, sessionid = 182\n",
    "\"\"\"\n",
    "query = \"select item_in_session, artist_name, song_title, user_name from user_song where user_id = 10 and session_id = 182 order by item_in_session\"\n",
    "\n",
    "try:\n",
    "    rows = session.execute(query)\n",
    "except Exception as e:\n",
    "    print(e)\n",
    "\n",
    "#Create a list and add rows to the list which are then added to a data frame for clean display\n",
    "t = PrettyTable(['Item in Session', 'Artist', 'Song Title', 'User Name'])\n",
    "\n",
    "#rowlist = []\n",
    "for row in rows:\n",
    "    #print (row.artist_name, row.song_title, row.user_name, row.item_in_session)\n",
    "    #rowlist.append({\"Artist Name\":row.artist_name, \"Song Title\":row.song_title, \"User Name\": row.user_name, \"Session\":row.item_in_session})\n",
    "    t.add_row([row.item_in_session, row.artist_name, row.song_title, row.user_name])\n",
    "#df=pd.DataFrame(rowlist)\n",
    "#df\n",
    "print(t)"
   ]
  },
  {
   "cell_type": "markdown",
   "metadata": {
    "editable": true
   },
   "source": [
    "#### Create a table to check the song history of users.\n",
    "#### This table gives the result set of the users that listened to a specified song.\n",
    "#### For this the primary key song_tile and user_id would be sufficient. However, in adding session_id \n",
    "#### it can also check if the same user listened to a song in multiple sessions."
   ]
  },
  {
   "cell_type": "code",
   "execution_count": 40,
   "metadata": {
    "editable": true
   },
   "outputs": [],
   "source": [
    "\"\"\"\n",
    "Drop and create the table. Insert records into the table from the csv file\n",
    "Query 3: Give me every user name (first and last) in my music app history who listened to the song 'All Hands Against His Own'\n",
    "\"\"\"\n",
    "query_d = \"DROP TABLE IF EXISTS song_history\"\n",
    "query = \"CREATE TABLE IF NOT EXISTS song_history \"\n",
    "query = query + \"(song_title text, user_id int, session_id int, artist_name text, user_name text, item_in_session int, \\\n",
    "                    PRIMARY KEY (song_title, user_id, session_id))\"\n",
    "try:\n",
    "    session.execute(query_d)\n",
    "    session.execute(query)\n",
    "except Exception as e:\n",
    "    print(e)\n",
    "\n",
    "file = 'event_datafile_new.csv'\n",
    "\n",
    "with open(file, encoding = 'utf8') as f:\n",
    "    csvreader = csv.reader(f)\n",
    "    next(csvreader) # skip header\n",
    "    for line in csvreader:\n",
    "    ## INSERT statements into the `query` variable\n",
    "        query = \"INSERT INTO song_history (song_title, user_id, session_id, artist_name, user_name, item_in_session)\"\n",
    "        query = query + \" VALUES (%s, %s, %s, %s, %s, %s)\"\n",
    "        ## Assign which column element should be assigned for each column in the INSERT statement.\n",
    "        ## For e.g., to INSERT artist_name and user first_name, you would change the code below to `line[0], line[1]`\n",
    "        session.execute(query, (line[9], pd.to_numeric(line[10]), pd.to_numeric(line[8]), line[0], line[1]+' '+line[4], pd.to_numeric(line[3])))\n",
    "                    "
   ]
  },
  {
   "cell_type": "code",
   "execution_count": 27,
   "metadata": {
    "editable": true
   },
   "outputs": [
    {
     "name": "stdout",
     "output_type": "stream",
     "text": [
      "+------------------+---------------------------+\n",
      "|    User Name     |         Song Title        |\n",
      "+------------------+---------------------------+\n",
      "| Jacqueline Lynch | All Hands Against His Own |\n",
      "|   Tegan Levine   | All Hands Against His Own |\n",
      "|   Sara Johnson   | All Hands Against His Own |\n",
      "+------------------+---------------------------+\n"
     ]
    }
   ],
   "source": [
    "\"\"\"\n",
    "## Give me every user name (first and last) in my music app history who listened to the song 'All Hands Against His Own'\n",
    "\"\"\"\n",
    "query = \"select user_name, song_title from song_history where song_title = 'All Hands Against His Own'\"\n",
    "try:\n",
    "    rows = session.execute(query)\n",
    "except Exception as e:\n",
    "    print(e)\n",
    "#Create a list and add rows to the list which are then added to a data frame for clean display\n",
    "#rowlist = []\n",
    "t = PrettyTable([ 'User Name', 'Song Title'])\n",
    "for row in rows:\n",
    "    #print (row.user_name, row.song_title)\n",
    "    #rowlist.append({\"User Name\":row.user_name, \"Song Title\":row.song_title})\n",
    "    t.add_row([row.user_name, row.song_title])\n",
    "print(t)\n",
    "#df=pd.DataFrame(rowlist)\n",
    "#df"
   ]
  },
  {
   "cell_type": "code",
   "execution_count": null,
   "metadata": {
    "editable": true
   },
   "outputs": [],
   "source": []
  },
  {
   "cell_type": "markdown",
   "metadata": {
    "editable": true
   },
   "source": [
    "### Drop the tables before closing out the sessions"
   ]
  },
  {
   "cell_type": "code",
   "execution_count": 41,
   "metadata": {
    "editable": true
   },
   "outputs": [],
   "source": [
    "## Drop the table before closing out the sessions\n",
    "query_d = \"DROP TABLE IF EXISTS song_usage\"\n",
    "try:\n",
    "    session.execute(query_d)\n",
    "except Exception as e:\n",
    "    print(e)\n",
    "\n",
    "query_d = \"DROP TABLE IF EXISTS user_song\"\n",
    "try:\n",
    "    session.execute(query_d)\n",
    "except Exception as e:\n",
    "    print(e)\n",
    "\n",
    "query_d = \"DROP TABLE IF EXISTS song_history\"\n",
    "try:\n",
    "    session.execute(query_d)\n",
    "except Exception as e:\n",
    "    print(e)\n"
   ]
  },
  {
   "cell_type": "markdown",
   "metadata": {
    "editable": true
   },
   "source": [
    "### Close the session and cluster connection¶"
   ]
  },
  {
   "cell_type": "code",
   "execution_count": 42,
   "metadata": {
    "editable": true
   },
   "outputs": [],
   "source": [
    "session.shutdown()\n",
    "cluster.shutdown()"
   ]
  },
  {
   "cell_type": "code",
   "execution_count": null,
   "metadata": {
    "editable": true
   },
   "outputs": [],
   "source": []
  },
  {
   "cell_type": "code",
   "execution_count": null,
   "metadata": {
    "editable": true
   },
   "outputs": [],
   "source": []
  }
 ],
 "metadata": {
  "kernelspec": {
   "display_name": "Python 3",
   "language": "python",
   "name": "python3"
  },
  "language_info": {
   "codemirror_mode": {
    "name": "ipython",
    "version": 3
   },
   "file_extension": ".py",
   "mimetype": "text/x-python",
   "name": "python",
   "nbconvert_exporter": "python",
   "pygments_lexer": "ipython3",
   "version": "3.6.3"
  }
 },
 "nbformat": 4,
 "nbformat_minor": 4
}
